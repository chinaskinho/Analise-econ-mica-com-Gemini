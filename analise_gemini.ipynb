{
  "nbformat": 4,
  "nbformat_minor": 0,
  "metadata": {
    "colab": {
      "provenance": [],
      "authorship_tag": "ABX9TyMT+FEh9H1UzHVVqAR2d18u"
    },
    "kernelspec": {
      "name": "python3",
      "display_name": "Python 3"
    },
    "language_info": {
      "name": "python"
    }
  },
  "cells": [
    {
      "cell_type": "code",
      "source": [
        "!pip install wbgapi\n",
        "!pip install google-generativeai"
      ],
      "metadata": {
        "id": "ySSbLSMptY2m"
      },
      "execution_count": null,
      "outputs": []
    },
    {
      "cell_type": "code",
      "execution_count": 2,
      "metadata": {
        "id": "_NYrh6QEWdW8"
      },
      "outputs": [],
      "source": [
        "\n",
        "import pandas as pd\n",
        "import matplotlib.pyplot as plt\n",
        "import wbgapi as wb\n",
        "import seaborn as sns\n",
        "import os\n",
        "os.environ['GOOGLE_API_KEY'] = 'Your-google-key'\n",
        "import google.generativeai as genai\n",
        "genai.configure(api_key=os.environ['GOOGLE_API_KEY'])"
      ]
    },
    {
      "cell_type": "code",
      "source": [
        "# extraindo do World Bank os indicares de PIB, desemprego e inflação\n",
        "indicators = {\n",
        "    'NY.GDP.MKTP.KD.ZG': 'GDP',\n",
        "    'SL.UEM.TOTL.ZS': 'Unemployment',\n",
        "    'FP.CPI.TOTL.ZG': 'BRA'\n",
        "}\n",
        "\n",
        "\n",
        "country = 'BRA' #escolha do país\n",
        "data = wb.data.DataFrame(indicators, country, mrv=10) #mrv (most recent values) serve para controlar o número de anos de dados que você deseja obter."
      ],
      "metadata": {
        "id": "mGaTSxP2Wh5R"
      },
      "execution_count": 3,
      "outputs": []
    },
    {
      "cell_type": "code",
      "source": [
        "#tratando dados\n",
        "data.rename(index={'FP.CPI.TOTL.ZG': 'Inflação', 'SL.UEM.TOTL.ZS': 'Desemprego', 'NY.GDP.MKTP.KD.ZG': 'PIB'}, inplace=True)\n"
      ],
      "metadata": {
        "id": "2NceXrVou8TW"
      },
      "execution_count": 4,
      "outputs": []
    },
    {
      "source": [
        "# Separando informações por ano\n",
        "data_dict = {}\n",
        "def mostrar_indicadores():\n",
        "  #data_dict = {}\n",
        "  for year in data.columns:  # Iterate over the years first\n",
        "    print(f\"Ano: {year.replace('YR', '')}\")  # Remove 'YR' from year for display\n",
        "    data_dict[year] = {}\n",
        "    for index in data.index:  # Iterate over the indicators (PIB, Desemprego, Inflação)\n",
        "        print(f\"  {index}: {data.loc[index, year]} %\")  # Access value using .loc\n",
        "        data_dict[year][index] = data.loc[index, year]\n",
        "    print(\"\\n\")  # Add an extra newline for readability\n",
        "    return data_dict"
      ],
      "cell_type": "code",
      "metadata": {
        "id": "_GngOM0V3eWR"
      },
      "execution_count": 13,
      "outputs": []
    },
    {
      "cell_type": "code",
      "source": [
        "# Chamando o Gemini para analise\n",
        "model = genai.GenerativeModel('gemini-1.5-flash')\n",
        "response = model.generate_content(f\"Como um professor de macroeconimia, explique com os dados a seguir a situação atual economica do Brasil e a perspextiva para o futuro. {data_dict}\")\n",
        "print(response.text)"
      ],
      "metadata": {
        "colab": {
          "base_uri": "https://localhost:8080/",
          "height": 853
        },
        "id": "50K3ovN_1BIy",
        "outputId": "9e43bbc6-af36-4349-8fc3-5a260c8c2c96"
      },
      "execution_count": 17,
      "outputs": [
        {
          "output_type": "stream",
          "name": "stdout",
          "text": [
            "## Análise da Situação Econômica do Brasil com Base nos Dados de 2014 a 2023\n",
            "\n",
            "Os dados fornecidos mostram uma trajetória complexa da economia brasileira nos últimos anos, com períodos de crescimento e recessão, inflação alta e baixa, e flutuações no desemprego. Vejamos a análise de cada indicador:\n",
            "\n",
            "**PIB:**\n",
            "\n",
            "* **2014-2016:** O Brasil sofreu uma profunda recessão, com queda acentuada do PIB em 2015 e 2016, resultado da crise política, da Operação Lava Jato e da queda nos preços das commodities.\n",
            "* **2017-2019:** A economia começou a se recuperar gradualmente, impulsionada por reformas e políticas de ajuste fiscal, com crescimento modesto do PIB. \n",
            "* **2020:** A pandemia de COVID-19 causou um novo choque negativo na economia, levando a uma forte contração do PIB.\n",
            "* **2021-2023:** A economia brasileira demonstrou resiliência, com recuperação significativa do PIB em 2021 e crescimento moderado nos anos seguintes, impulsionado principalmente pelo consumo e investimentos.\n",
            "\n",
            "**Inflação:**\n",
            "\n",
            "* **2014-2016:** A inflação se manteve relativamente controlada, mas apresentou um aumento significativo em 2015 e 2016, em parte devido à desvalorização do real e ao aumento dos preços dos alimentos.\n",
            "* **2017-2019:**  A inflação caiu para níveis baixos, refletindo a desaceleração da economia e a política monetária do Banco Central.\n",
            "* **2020:** A inflação se manteve baixa devido à queda da demanda e do consumo, porém, subiu em 2021 e 2022, impulsionada por fatores como a alta dos preços de commodities e a desvalorização do real.\n",
            "* **2023:** A inflação voltou a diminuir em 2023, refletindo a queda dos preços de alimentos e a redução da demanda, sinalizando uma tendência de queda.\n",
            "\n",
            "**Desemprego:**\n",
            "\n",
            "* **2014-2016:** O desemprego aumentou de forma significativa durante a recessão, atingindo um pico em 2016, demonstrando o impacto negativo da queda do PIB sobre o mercado de trabalho.\n",
            "* **2017-2019:** A taxa de desemprego continuou alta, mas apresentou uma redução gradual, acompanhando a lenta recuperação da economia. \n",
            "* **2020:** A pandemia intensificou a crise do mercado de trabalho, com aumento do desemprego, reflexo das medidas de isolamento social e da redução da atividade econômica.\n",
            "* **2021-2023:** A taxa de desemprego começou a cair em 2021, impulsionada pela recuperação da economia e pelas medidas de auxílio emergencial do governo. O desemprego continuou a diminuir em 2022 e 2023, indicando uma recuperação do mercado de trabalho.\n",
            "\n",
            "## Perspectivas para o Futuro\n",
            "\n",
            "A economia brasileira enfrenta desafios e oportunidades no futuro. \n",
            "\n",
            "**Desafios:**\n",
            "\n",
            "* **Inflação:** Apesar da recente queda, a inflação ainda apresenta incertezas, e a manutenção da estabilidade de preços exige atenção do governo e do Banco Central.\n",
            "* **Dívida Pública:** O elevado nível de endividamento público impõe restrições ao gasto público e exige medidas de ajuste fiscal.\n",
            "* **Desigualdade Social:** O Brasil ainda enfrenta altos níveis de desigualdade social, com pobreza e concentração de renda.\n",
            "* **Instabilidade Política:** A instabilidade política pode afetar a confiança dos investidores e prejudicar o crescimento econômico.\n",
            "\n",
            "**Oportunidades:**\n",
            "\n",
            "* **Potencial de Crescimento:** O Brasil possui grande potencial de crescimento econômico, impulsionado pela demanda interna, pela riqueza natural e pela força da agricultura.\n",
            "* **Reformas Estruturais:** A implementação de reformas estruturais, como a reforma tributária e a reforma da Previdência, pode melhorar o ambiente de negócios e atrair investimentos.\n",
            "* **Tecnologia e Inovação:** A tecnologia e a inovação podem impulsionar a produtividade e gerar novos empregos.\n",
            "* **Mercado Interno:** O mercado interno brasileiro é um dos maiores do mundo e oferece oportunidades para o desenvolvimento de novos produtos e serviços.\n",
            "\n",
            "**Conclusão:**\n",
            "\n",
            "A economia brasileira está em recuperação, mas enfrenta desafios importantes. A superação desses desafios dependerá da capacidade do governo de implementar políticas macroeconômicas sólidas, de promover reformas estruturais e de fortalecer a confiança dos investidores.  É fundamental que o país aproveite as oportunidades para alcançar um crescimento sustentável e inclusivo, combatendo a desigualdade social e criando um futuro próspero para a população brasileira. \n",
            "\n"
          ]
        }
      ]
    }
  ]
}